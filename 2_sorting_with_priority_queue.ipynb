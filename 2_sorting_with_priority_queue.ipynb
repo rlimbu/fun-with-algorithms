{
 "cells": [
  {
   "cell_type": "markdown",
   "metadata": {},
   "source": [
    "# Sorting With Priority Queue"
   ]
  },
  {
   "cell_type": "markdown",
   "metadata": {},
   "source": [
    "[Priority queue](https://en.wikipedia.org/wiki/Priority_queue) is an abstract data type just like a list or a map. What sets it apart from a stack or a queue is that each element has a priority. This fact can be used to perform sorts.\n",
    "\n",
    "The following code creates a list of 20 random numbers in the range 1 to 1,000 inclusive, puts them into a priority queue and pops them off one by one. Lo and behold, the numbers come out sorted in ascending order!"
   ]
  },
  {
   "cell_type": "code",
   "execution_count": 44,
   "metadata": {
    "collapsed": false
   },
   "outputs": [
    {
     "name": "stdout",
     "output_type": "stream",
     "text": [
      "[980, 855, 299, 645, 731, 912, 543, 761, 134, 821, 447, 392, 985, 532, 558, 199, 433, 759, 827, 303]\n"
     ]
    }
   ],
   "source": [
    "import random as rnd\n",
    "import queue as q\n",
    "\n",
    "randNumbers = rnd.sample(range(1, 1001),20)\n",
    "print(randNumbers)  "
   ]
  },
  {
   "cell_type": "code",
   "execution_count": 45,
   "metadata": {
    "collapsed": false
   },
   "outputs": [
    {
     "name": "stdout",
     "output_type": "stream",
     "text": [
      "[134, 199, 299, 303, 392, 433, 447, 532, 543, 558, 645, 731, 759, 761, 821, 827, 855, 912, 980, 985]\n"
     ]
    }
   ],
   "source": [
    "# instantiate a priority queue and insert random numbers into it\n",
    "pq = q.PriorityQueue()\n",
    "for n in randNumbers:\n",
    "    pq.put(n)\n",
    "    \n",
    "# extract the numbers into a list and print them\n",
    "qOut = []\n",
    "\n",
    "while not pq.empty():\n",
    "    qOut.append(pq.get())\n",
    "\n",
    "print(qOut)"
   ]
  },
  {
   "cell_type": "code",
   "execution_count": 46,
   "metadata": {
    "collapsed": false
   },
   "outputs": [
    {
     "name": "stdout",
     "output_type": "stream",
     "text": [
      "134 985\n"
     ]
    }
   ],
   "source": [
    "print(min(qOut), max(qOut))"
   ]
  },
  {
   "cell_type": "markdown",
   "metadata": {},
   "source": [
    "If the priority queue implementation is such that insertions and extractions are performed in O(log n), then the numbers can be sorted in O(n log n) time."
   ]
  }
 ],
 "metadata": {
  "anaconda-cloud": {},
  "kernelspec": {
   "display_name": "Python 3",
   "language": "python",
   "name": "python3"
  },
  "language_info": {
   "codemirror_mode": {
    "name": "ipython",
    "version": 3
   },
   "file_extension": ".py",
   "mimetype": "text/x-python",
   "name": "python",
   "nbconvert_exporter": "python",
   "pygments_lexer": "ipython3",
   "version": "3.5.2"
  }
 },
 "nbformat": 4,
 "nbformat_minor": 1
}
