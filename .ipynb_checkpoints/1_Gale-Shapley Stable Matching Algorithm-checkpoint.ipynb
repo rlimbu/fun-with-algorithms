{
 "cells": [
  {
   "cell_type": "markdown",
   "metadata": {},
   "source": [
    "# Gale-Shapely Stable Matching Algorithm"
   ]
  },
  {
   "cell_type": "markdown",
   "metadata": {},
   "source": [
    "Stable matching problems arise when matching members of two sets of equal size where each member has an ordered preference for members of the other set. Consider sets M of men and W of women looking for romantic partners. Each m ∈ M has a preference list for members of W and so does each w ∈ W for members of M.\n",
    "\n",
    "A matching is said to be stable when no pairing (m, w) exists such that m and w both prefer each other to their current partners. In other words, the condition for m and w to abandon their current parnters in favor of each other does not exist.\n",
    "\n",
    "Given equal number of men and women, the algorithm also ensures that no one is single, and polygamy and/or polyandry does not exist.\n",
    "\n",
    "A brute-force algorithm to find a stable matching given two sets M and W with *n* members each has a worst case running time of O(n!). This running time grows extremely fast, and so brute-force approaches are practically useless.\n",
    "\n",
    "In 1962, David Gale and Lloyd Shapely showed that, given an equal number of men and women, it is always possible to come up with a stable matching of men and women. They presented an algorithm with the worst-case running time of O(n^2). Their algorithm is as follows:"
   ]
  },
  {
   "cell_type": "markdown",
   "metadata": {
    "collapsed": true
   },
   "source": [
    "function stableMatching {  \n",
    "      Initialize all m ∈ M and w ∈ W to free  \n",
    "      while ∃ free man m who still has a woman w to propose to {  \n",
    "         w = first woman on m’s list to whom m has not yet proposed  \n",
    "         if w is free  \n",
    "           (m, w) become engaged  \n",
    "         else some pair (m', w) already exists  \n",
    "           if w prefers m to m'  \n",
    "             m' becomes free  \n",
    "             (m, w) become engaged   \n",
    "           else  \n",
    "             (m', w) remain engaged  \n",
    "        }  \n",
    "}  "
   ]
  },
  {
   "cell_type": "markdown",
   "metadata": {
    "collapsed": true
   },
   "source": [
    "What follows is my implementation of the Gale-Shapley implementation in Python:"
   ]
  },
  {
   "cell_type": "code",
   "execution_count": 2,
   "metadata": {
    "collapsed": false
   },
   "outputs": [
    {
     "name": "stdout",
     "output_type": "stream",
     "text": [
      "Total proposals = 3\n",
      "Final pairings:\n",
      "Rambo <-> Delilah\n",
      "Diamond <-> Ruby\n",
      "Lucifer <-> Sophie\n"
     ]
    }
   ],
   "source": [
    "\"\"\"\n",
    "Created on Tue Jun  6 19:57:26 2017\n",
    "Completed on June 8, 2017\n",
    "@author: Ram Limbu\n",
    "@Description: Implement Gale-Shapley algorithm\n",
    "\"\"\"\n",
    "class person():\n",
    "    '''person class'''\n",
    "    def __init__(self, name=None):\n",
    "        '''initialise class'''\n",
    "        self.name = name\n",
    "        self.pref = []\n",
    "        self.select = None\n",
    "        \n",
    "    def getNextPrefPartner(self):\n",
    "        '''get next preferred partner on the list'''\n",
    "        if self.select is None:\n",
    "            self.select = 0            \n",
    "        else:\n",
    "            self.select = self.select + 1\n",
    "        if self.select < len(self.pref):\n",
    "            return self.pref[self.select]\n",
    "        else:\n",
    "            return None\n",
    "            \n",
    "    def getPrefPartners(self):\n",
    "        '''return the list of preferred partners'''\n",
    "        return self.pref\n",
    "    \n",
    "    def setPrefPartner(self, pref):\n",
    "        '''set preferred partner list'''\n",
    "        self.pref = pref\n",
    "    \n",
    "    def prefFirstPartner(self, p1, p2):\n",
    "        '''return True if p1 is more preferable to p2'''\n",
    "        return self.pref.index(p1) < self.pref.index(p2)\n",
    "       \n",
    "    def __str__(self):\n",
    "        '''string version of the person'''\n",
    "        return self.name\n",
    "  \n",
    "\n",
    "def main():\n",
    "    '''main code entry point'''        \n",
    "        \n",
    "    S = {} # pairs\n",
    "    Rambo = person(name='Rambo') \n",
    "    Lucifer = person(name='Lucifer')\n",
    "    Diamond = person(name='Diamond')\n",
    "    Sophie = person('Sophie')\n",
    "    Delilah = person('Delilah')\n",
    "    Ruby = person('Ruby')\n",
    "    \n",
    "    # men's preference list   \n",
    "    Rambo.setPrefPartner([Delilah, Ruby, Sophie])\n",
    "    Lucifer.setPrefPartner([Sophie, Delilah, Ruby])\n",
    "    Diamond.setPrefPartner([Ruby, Delilah, Sophie])\n",
    "    \n",
    "    # women's preference list\n",
    "    Sophie.setPrefPartner([Diamond, Lucifer, Rambo])\n",
    "    Delilah.setPrefPartner([Diamond, Rambo, Lucifer])\n",
    "    Ruby.setPrefPartner([Rambo, Diamond, Lucifer])\n",
    "\n",
    "    fm = [Rambo, Lucifer, Diamond]\n",
    "                  \n",
    "    loop = 0  \n",
    "    while fm:\n",
    "        freeM = fm.pop(0)\n",
    "        prefW = freeM.getNextPrefPartner()\n",
    "        if not prefW in S:\n",
    "            S[prefW] = freeM\n",
    "        else:\n",
    "            # woman is already engaged\n",
    "            fiance = S[prefW]\n",
    "            if prefW.prefFirstPartner(freeM, fiance):\n",
    "                # woman ditches her fiance\n",
    "                del S[prefW] \n",
    "                S[prefW] = freeM\n",
    "                fm.append(fiance)\n",
    "            else:\n",
    "                # woman sticks with her fiance. Man remains free\n",
    "                fm.append(freeM)                        \n",
    "        loop = loop + 1\n",
    "    print('Total proposals = {0}'.format(loop))\n",
    "    print('Final pairings:')\n",
    "    for k, v in S.items():\n",
    "        print(v, '<->', k)\n",
    "        \n",
    "if __name__=='__main__':\n",
    "    main()\n",
    " "
   ]
  },
  {
   "cell_type": "markdown",
   "metadata": {},
   "source": [
    "One of the properties of the Gale-Shapley algorithm is that the party that make the proposals, i.e. men in this case, end up getting better outcomes. In the above example, all the men get their most preferred partners whereas all the women get only their second choices. Hence, this algorithm also demonstrates the inherently unfair nature of certain human transactions."
   ]
  }
 ],
 "metadata": {
  "anaconda-cloud": {},
  "kernelspec": {
   "display_name": "Python 3",
   "language": "python",
   "name": "python3"
  },
  "language_info": {
   "codemirror_mode": {
    "name": "ipython",
    "version": 3
   },
   "file_extension": ".py",
   "mimetype": "text/x-python",
   "name": "python",
   "nbconvert_exporter": "python",
   "pygments_lexer": "ipython3",
   "version": "3.5.2"
  }
 },
 "nbformat": 4,
 "nbformat_minor": 1
}
