{
 "cells": [
  {
   "cell_type": "markdown",
   "metadata": {},
   "source": [
    "# Binary Search Algorithm"
   ]
  },
  {
   "cell_type": "markdown",
   "metadata": {},
   "source": [
    "Given a sorted list of items, [binary search algorithm](https://en.wikipedia.org/wiki/Binary_search_algorithm) provides an efficient method for searching the list for an item. It runs at logarithmic time, with the worst-case performance being O(Log *n*) where *n* is the number of items on the list.\n",
    "\n",
    "A Python implementation of the algorithm follows."
   ]
  },
  {
   "cell_type": "code",
   "execution_count": 41,
   "metadata": {
    "collapsed": false
   },
   "outputs": [
    {
     "name": "stdout",
     "output_type": "stream",
     "text": [
      "50000 found in 49000 position of the list\n",
      "Total number of iterations: 16\n"
     ]
    }
   ],
   "source": [
    "import math\n",
    "\n",
    "aList = range(1000, 100000)\n",
    "lower, upper = 0, len(aList) - 1\n",
    "target = 50000\n",
    "counter = 0\n",
    "\n",
    "while upper >= lower:\n",
    "    counter = counter + 1\n",
    "    middle = math.floor((upper+lower)/2)\n",
    "    if aList[middle] == target:\n",
    "        print(\"{} found in {} position of the list\".format(target, middle))\n",
    "        print(\"Total number of iterations: {}\".format(counter))\n",
    "        break\n",
    "    elif target > aList[middle]:\n",
    "        lower = middle + 1\n",
    "    else:\n",
    "        upper = middle - 1\n",
    "        \n",
    "if not upper >= lower:\n",
    "    print(\"{} was not found on the list\".format(target))\n"
   ]
  }
 ],
 "metadata": {
  "anaconda-cloud": {},
  "kernelspec": {
   "display_name": "Python 3",
   "language": "python",
   "name": "python3"
  },
  "language_info": {
   "codemirror_mode": {
    "name": "ipython",
    "version": 3
   },
   "file_extension": ".py",
   "mimetype": "text/x-python",
   "name": "python",
   "nbconvert_exporter": "python",
   "pygments_lexer": "ipython3",
   "version": "3.5.2"
  }
 },
 "nbformat": 4,
 "nbformat_minor": 1
}
