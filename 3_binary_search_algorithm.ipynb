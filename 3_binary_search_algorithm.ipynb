{
 "cells": [
  {
   "cell_type": "markdown",
   "metadata": {},
   "source": [
    "# Binary Search Algorithm"
   ]
  },
  {
   "cell_type": "markdown",
   "metadata": {},
   "source": [
    "Given a sorted list of items, [binary search algorithm](https://en.wikipedia.org/wiki/Binary_search_algorithm) provides an efficient method for searching the list for an item. It runs in logarithmic time, with the worst-case performance being O(Log *n*) where *n* is the number of items on the list.\n",
    "\n",
    "An iterative Python implementation of the algorithm follows:"
   ]
  },
  {
   "cell_type": "code",
   "execution_count": 53,
   "metadata": {
    "collapsed": false
   },
   "outputs": [
    {
     "name": "stdout",
     "output_type": "stream",
     "text": [
      "5,000 found in position 4,000 on the list.\n",
      "Total number of iterations: 15\n"
     ]
    }
   ],
   "source": [
    "import math\n",
    "\n",
    "aList = range(1000, 100000)\n",
    "lower, upper = 0, len(aList) - 1\n",
    "target = 5000\n",
    "counter = 0\n",
    "\n",
    "while upper >= lower:\n",
    "    counter = counter + 1\n",
    "    middle = math.floor((upper+lower)/2)\n",
    "    if aList[middle] == target:\n",
    "        print(\"{:,} found in position {:,} on the list.\".format(target, middle))\n",
    "        print(\"Total number of iterations: {:,}\".format(counter))\n",
    "        break\n",
    "    elif target > aList[middle]:\n",
    "        lower = middle + 1\n",
    "    else:\n",
    "        upper = middle - 1\n",
    "        \n",
    "if not upper >= lower:\n",
    "    print(\"{:,} was not found on the list\".format(target))\n"
   ]
  },
  {
   "cell_type": "markdown",
   "metadata": {},
   "source": [
    "Recursive implementation of this algorithm is perhaps more aesthetically pleasing."
   ]
  },
  {
   "cell_type": "code",
   "execution_count": 54,
   "metadata": {
    "collapsed": false
   },
   "outputs": [
    {
     "name": "stdout",
     "output_type": "stream",
     "text": [
      "5,000 found in position 4,000 on the list.\n"
     ]
    }
   ],
   "source": [
    "def binary_search(aList, val, lower, upper):\n",
    "    '''given a sorted list of items, returns the position of the search item \n",
    "    on the list or None if the item is not found''' \n",
    "    if not upper >= lower:\n",
    "        return None\n",
    "    \n",
    "    middle = math.floor((upper+lower)/2)\n",
    "    if aList[middle] == val:\n",
    "        return middle\n",
    "    \n",
    "    if target > aList[middle]:\n",
    "        return binary_search(aList, val, middle+1, upper)\n",
    "    else:\n",
    "        return binary_search(aList, val, lower, middle - 1)    \n",
    "    \n",
    "# call the recursive function with the variables that were defined for the iterative implementation above\n",
    "pos = binary_search(aList, target, lower, upper) \n",
    "\n",
    "if pos: \n",
    "    print(\"{:,} found in position {:,} on the list.\".format(target, pos))\n",
    "else:\n",
    "    print(\"{:,} was not found on the list\".format(target))\n",
    "        "
   ]
  },
  {
   "cell_type": "markdown",
   "metadata": {},
   "source": [
    "Of course, Python standard library provides a function for binary search."
   ]
  },
  {
   "cell_type": "code",
   "execution_count": 55,
   "metadata": {
    "collapsed": false
   },
   "outputs": [
    {
     "name": "stdout",
     "output_type": "stream",
     "text": [
      "5,000 found in position 4,000 on the list.\n"
     ]
    }
   ],
   "source": [
    "from bisect import bisect_left\n",
    "\n",
    "# bisect_left() returns 0 if the search item is not found on the list\n",
    "pos = bisect_left(aList, target)\n",
    "\n",
    "if pos:\n",
    "    print(\"{:,} found in position {:,} on the list.\".format(target, pos))\n",
    "else:\n",
    "    print(\"{:,} was not found on the list\".format(target))"
   ]
  }
 ],
 "metadata": {
  "anaconda-cloud": {},
  "kernelspec": {
   "display_name": "Python 3",
   "language": "python",
   "name": "python3"
  },
  "language_info": {
   "codemirror_mode": {
    "name": "ipython",
    "version": 3
   },
   "file_extension": ".py",
   "mimetype": "text/x-python",
   "name": "python",
   "nbconvert_exporter": "python",
   "pygments_lexer": "ipython3",
   "version": "3.5.2"
  }
 },
 "nbformat": 4,
 "nbformat_minor": 1
}
