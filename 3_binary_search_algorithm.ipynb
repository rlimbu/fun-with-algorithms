{
 "cells": [
  {
   "cell_type": "markdown",
   "metadata": {},
   "source": [
    "# Binary Search Algorithm"
   ]
  },
  {
   "cell_type": "markdown",
   "metadata": {},
   "source": [
    "Given a sorted list of items, [binary search algorithm](https://en.wikipedia.org/wiki/Binary_search_algorithm) provides an efficient method for searching the list for an item. It runs in logarithmic time, with the worst-case performance being O(Log *n*) where *n* is the number of items on the list.\n",
    "\n",
    "An iterative Python implementation of the algorithm follows:"
   ]
  },
  {
   "cell_type": "code",
   "execution_count": 58,
   "metadata": {
    "collapsed": false
   },
   "outputs": [
    {
     "name": "stdout",
     "output_type": "stream",
     "text": [
      "1,500 found in position 500 on the list.\n",
      "Total number of iterations: 9\n"
     ]
    }
   ],
   "source": [
    "import math\n",
    "\n",
    "aList = range(1000,2000)\n",
    "lower, upper = 0, len(aList) - 1\n",
    "target = 1500\n",
    "counter = 0\n",
    "\n",
    "while upper >= lower:\n",
    "    counter = counter + 1\n",
    "    middle = math.floor((upper+lower)/2)\n",
    "    if aList[middle] == target:\n",
    "        print(\"{:,} found in position {:,} on the list.\".format(target, middle))\n",
    "        print(\"Total number of iterations: {:,}\".format(counter))\n",
    "        break\n",
    "    elif target > aList[middle]:\n",
    "        lower = middle + 1\n",
    "    else:\n",
    "        upper = middle - 1\n",
    "        \n",
    "if not upper >= lower:\n",
    "    print(\"{:,} was not found on the list\".format(target))\n"
   ]
  },
  {
   "cell_type": "markdown",
   "metadata": {},
   "source": [
    "Recursive implementation of this algorithm is perhaps more aesthetically pleasing:"
   ]
  },
  {
   "cell_type": "code",
   "execution_count": 59,
   "metadata": {
    "collapsed": false
   },
   "outputs": [
    {
     "name": "stdout",
     "output_type": "stream",
     "text": [
      "1,500 found in position 500 on the list.\n"
     ]
    }
   ],
   "source": [
    "def binary_search(aList, val, lower, upper):\n",
    "    '''given a sorted list of items, returns the position of the search item \n",
    "    on the list or None if the item is not found''' \n",
    "    if not upper >= lower:\n",
    "        return None\n",
    "    \n",
    "    middle = math.floor((upper+lower)/2)\n",
    "    if aList[middle] == val:\n",
    "        return middle\n",
    "    \n",
    "    if target > aList[middle]:\n",
    "        return binary_search(aList, val, middle+1, upper)\n",
    "    else:\n",
    "        return binary_search(aList, val, lower, middle - 1)    \n",
    "    \n",
    "# call the recursive function with the variables that were defined for the iterative implementation above\n",
    "pos = binary_search(aList, target, lower, upper) \n",
    "\n",
    "if pos: \n",
    "    print(\"{:,} found in position {:,} on the list.\".format(target, pos))\n",
    "else:\n",
    "    print(\"{:,} was not found on the list\".format(target))\n",
    "        "
   ]
  },
  {
   "cell_type": "markdown",
   "metadata": {},
   "source": [
    "Of course, Python standard library provides a function for binary search:"
   ]
  },
  {
   "cell_type": "code",
   "execution_count": 60,
   "metadata": {
    "collapsed": false
   },
   "outputs": [
    {
     "name": "stdout",
     "output_type": "stream",
     "text": [
      "1,500 found in position 500 on the list.\n"
     ]
    }
   ],
   "source": [
    "from bisect import bisect_left\n",
    "\n",
    "# bisect_left() returns 0 if the search item is not found on the list\n",
    "pos = bisect_left(aList, target)\n",
    "\n",
    "if pos:\n",
    "    print(\"{:,} found in position {:,} on the list.\".format(target, pos))\n",
    "else:\n",
    "    print(\"{:,} was not found on the list\".format(target))"
   ]
  },
  {
   "cell_type": "markdown",
   "metadata": {},
   "source": [
    "How does binary search algorithm compare to linear search? Plotting the worst-case runnning times for these algorithms when searching a list of 1,000 items would give an indication.\n",
    "\n",
    "It may be recalled that the worst-case running time for binary and linear search algorithms are O(log(*n*)) and O(*n*), respectively."
   ]
  },
  {
   "cell_type": "code",
   "execution_count": 61,
   "metadata": {
    "collapsed": false
   },
   "outputs": [
    {
     "data": {
      "image/png": "[encoded data removed]",
      "text/plain": [
       "<matplotlib.figure.Figure at 0x1256ca588>"
      ]
     },
     "metadata": {},
     "output_type": "display_data"
    }
   ],
   "source": [
    "import matplotlib.pyplot as plt\n",
    "import numpy as np\n",
    "import seaborn as sns\n",
    "%matplotlib inline\n",
    "\n",
    "fig, ax0 = plt.subplots()\n",
    "\n",
    "aList = np.arange(1, 1000)\n",
    "ax0.plot(aList, aList, \"g-\", linewidth=0.75)\n",
    "ax0.set_xlabel(\"length of search list\")\n",
    "ax0.set_ylabel(\"linear search\", color=\"g\")\n",
    "ax0.tick_params(\"y\", colors=\"g\")\n",
    "\n",
    "# secondary axis for binary search\n",
    "ax1 = ax0.twinx()\n",
    "binTime = np.ceil(np.log2(aList))\n",
    "ax1.plot(aList, binTime, \"r--\", linewidth=0.75)\n",
    "ax1.set_ylabel(\"binary search\", color=\"r\")\n",
    "ax1.tick_params(\"y\", colors=\"r\")\n",
    "\n"
   ]
  },
  {
   "cell_type": "markdown",
   "metadata": {},
   "source": [
    "As the plot shows, given a sorted list of 1,000 items, the worst-case running time is 1,000 for linear search and 10 for binary search. This difference grows very quickly as the size of the list increases.  "
   ]
  }
 ],
 "metadata": {
  "anaconda-cloud": {},
  "kernelspec": {
   "display_name": "Python 3",
   "language": "python",
   "name": "python3"
  },
  "language_info": {
   "codemirror_mode": {
    "name": "ipython",
    "version": 3
   },
   "file_extension": ".py",
   "mimetype": "text/x-python",
   "name": "python",
   "nbconvert_exporter": "python",
   "pygments_lexer": "ipython3",
   "version": "3.5.2"
  }
 },
 "nbformat": 4,
 "nbformat_minor": 1
}
