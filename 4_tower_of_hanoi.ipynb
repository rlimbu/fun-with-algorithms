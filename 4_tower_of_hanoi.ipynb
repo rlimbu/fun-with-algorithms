{
 "cells": [
  {
   "cell_type": "markdown",
   "metadata": {},
   "source": [
    "# Tower of Hanoi: A Storied Riddle"
   ]
  },
  {
   "cell_type": "markdown",
   "metadata": {},
   "source": [
    "One of the first algorithmic riddles that CS students face is the [Tower of Hanoi](https://en.wikipedia.org/wiki/Tower_of_Hanoi). The origin of this riddle is attributed to a 19th century French mathematician, Édouard Lucas. The riddle goes like this:\n",
    "\n",
    "In an enchanted oriental temple, monks have been moving disks of varying sizes from one peg (A) to another (C) using a spare peg (B) since creation. All the disks have a hole in the middle so that they slide into the pegs. \n",
    "\n",
    "Initially, all the disks were on peg A, with the largest disk at the bottom, followed by the next largest and so on so that the smallest disk ended at the top. In other words, the disks formed a stack.\n",
    "\n",
    "The monks had to move all the disks from peg A to peg C by obeying the following rules:\n",
    "\n",
    "1. Only one disk can be moved at a time\n",
    "2. Larger disk cannot be placed atop a smaller disk\n",
    "3. A disk has to be removed from the top of a stack and placed on top of another stack\n",
    "\n",
    "The legend has it that the venerables monks had to move 64 disks from peg A to peg C using peg B as a spare. They could move only one disk per day. When the task was completed, the world would end.\n",
    "\n",
    "How much time would elapse before the monks completed their disk-shuffling penance and the world perished in a cosmic cataclysm?\n",
    "\n",
    "Given that it takes a minimum of 2^n - 1 moves, where *n* is the number of disks, to solve the Tower of Hanoi puzzle, it would take the monks 585 billion years to complete the task if they could move one disk per *second*.   \n",
    "\n",
    "This puzzle itself lends itself to an elegant recursive solution:"
   ]
  },
  {
   "cell_type": "code",
   "execution_count": 20,
   "metadata": {
    "collapsed": false
   },
   "outputs": [],
   "source": [
    "def TowerOfHanoi(n_disks, source=\"A\", spare=\"B\", dest=\"C\"):\n",
    "    '''recursively solves the tower of hanoi puzzle'''\n",
    "    if n_disks:\n",
    "        TowerOfHanoi(n_disks - 1, source, dest, spare)\n",
    "        print(source, \"-->\", dest)\n",
    "        TowerOfHanoi(n_disks - 1, spare, source, dest)       "
   ]
  },
  {
   "cell_type": "markdown",
   "metadata": {},
   "source": [
    "Let's find out how four disks stacked on peg A can be moved to peg C using peg B as the spare. We know that the minimum number of moves required to complete this task = 2^4 - 1 = 15."
   ]
  },
  {
   "cell_type": "code",
   "execution_count": 21,
   "metadata": {
    "collapsed": false
   },
   "outputs": [
    {
     "name": "stdout",
     "output_type": "stream",
     "text": [
      "A --> B\n",
      "A --> C\n",
      "B --> C\n",
      "A --> B\n",
      "C --> A\n",
      "C --> B\n",
      "A --> B\n",
      "A --> C\n",
      "B --> C\n",
      "B --> A\n",
      "C --> A\n",
      "B --> C\n",
      "A --> B\n",
      "A --> C\n",
      "B --> C\n"
     ]
    }
   ],
   "source": [
    "TowerOfHanoi (4)"
   ]
  },
  {
   "cell_type": "markdown",
   "metadata": {},
   "source": [
    "This recursive solution comprises 3 parts:\n",
    "\n",
    "1. Move n-1 disks from peg A to the spare peg, B\n",
    "2. Move *n*th peg to the destination peg, C\n",
    "3. Move n-1 disks from the spare peg B to the destination peg, C\n",
    "\n",
    "This [site](http://haubergs.com/hanoi) offers an online version of this puzzle."
   ]
  }
 ],
 "metadata": {
  "anaconda-cloud": {},
  "kernelspec": {
   "display_name": "Python 3",
   "language": "python",
   "name": "python3"
  },
  "language_info": {
   "codemirror_mode": {
    "name": "ipython",
    "version": 3
   },
   "file_extension": ".py",
   "mimetype": "text/x-python",
   "name": "python",
   "nbconvert_exporter": "python",
   "pygments_lexer": "ipython3",
   "version": "3.5.2"
  }
 },
 "nbformat": 4,
 "nbformat_minor": 1
}
